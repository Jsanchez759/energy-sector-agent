{
 "cells": [
  {
   "cell_type": "code",
   "execution_count": 1,
   "metadata": {},
   "outputs": [],
   "source": [
    "import requests\n",
    "from bs4 import BeautifulSoup\n",
    "import os"
   ]
  },
  {
   "cell_type": "code",
   "execution_count": 2,
   "metadata": {},
   "outputs": [
    {
     "data": {
      "text/plain": [
       "200"
      ]
     },
     "execution_count": 2,
     "metadata": {},
     "output_type": "execute_result"
    }
   ],
   "source": [
    "headers = {\n",
    "            \"User-Agent\": \"Mozilla/5.0 (Windows NT 10.0; Win64; x64) AppleWebKit/537.36 (KHTML, like Gecko) Chrome/119.0.0.0 Safari/537.36\"\n",
    "        }\n",
    "\n",
    "url = \"https://creg.gov.co/loader.php?lServicio=Documentos&lFuncion=infoCategoriaConsumo&tipo=RE\"\n",
    "response = requests.get(url, headers=headers, timeout=10)\n",
    "response.raise_for_status()\n",
    "soup = BeautifulSoup(response.text, \"html.parser\")\n",
    "response.status_code"
   ]
  },
  {
   "cell_type": "code",
   "execution_count": 20,
   "metadata": {},
   "outputs": [],
   "source": [
    "documents = []\n",
    "for link in soup.find_all(\"a\", href=True):\n",
    "    href = link[\"href\"]\n",
    "    if \"ControlAdmin/BajarArchivo\".lower() in href.lower():  # Filter relevant links\n",
    "        doc_title = link.text.strip()\n",
    "        documents.append({\"title\": doc_title, \"url\": href})"
   ]
  },
  {
   "cell_type": "code",
   "execution_count": 4,
   "metadata": {},
   "outputs": [],
   "source": [
    "# Directory to save documents\n",
    "DOWNLOAD_DIR = \"../data\"\n",
    "os.makedirs(DOWNLOAD_DIR, exist_ok=True)"
   ]
  },
  {
   "cell_type": "code",
   "execution_count": 21,
   "metadata": {},
   "outputs": [],
   "source": [
    "def download_document(url, filename):\n",
    "    \"\"\"Download a document and save it locally.\"\"\"\n",
    "    try:\n",
    "        filename = filename.replace(\"\\\\\", \"\")\n",
    "        response = requests.get(url, timeout=15)\n",
    "        response.raise_for_status()\n",
    "\n",
    "        filepath = os.path.join(DOWNLOAD_DIR, filename)\n",
    "        with open(filepath, \"wb\") as file:\n",
    "            file.write(response.content)\n",
    "\n",
    "    except Exception as e:\n",
    "        print(f\"Error downloading {url}: {e}\")"
   ]
  },
  {
   "cell_type": "code",
   "execution_count": 22,
   "metadata": {},
   "outputs": [
    {
     "name": "stdout",
     "output_type": "stream",
     "text": [
      "Error downloading https://creg.analitica.com.co/AZDigital/ControlAdmin/BajarArchivo.php?ArId=391827: [Errno 22] Invalid argument: '../data\\\\?ArId=391827.docx'\n"
     ]
    }
   ],
   "source": [
    "for doc in documents:\n",
    "    filename = f\"{doc['url'][-12:]}.docx\"\n",
    "    download_document(doc[\"url\"], filename)"
   ]
  },
  {
   "cell_type": "code",
   "execution_count": 16,
   "metadata": {},
   "outputs": [],
   "source": [
    "month_index_translation = {\n",
    "    \"DIC\": \"DEC\",\n",
    "    \"NOV\": \"NOV\",\n",
    "    \"OCT\": \"OCT\",\n",
    "    \"SEP\": \"SEP\",\n",
    "    \"AGO\": \"AUG\",\n",
    "    \"JUL\": \"JUL\",\n",
    "    \"JUN\": \"JUN\",\n",
    "    \"MAY\": \"MAY\",\n",
    "    \"ABR\": \"APR\",\n",
    "    \"MAR\": \"MAR\",\n",
    "    \"FEB\": \"FEB\",\n",
    "    \"ENE\": \"JAN\",\n",
    "}"
   ]
  },
  {
   "cell_type": "code",
   "execution_count": 32,
   "metadata": {},
   "outputs": [],
   "source": [
    "import unicodedata\n",
    "\n",
    "def remove_accents(text):\n",
    "    return \"\".join(\n",
    "        c for c in unicodedata.normalize(\"NFKD\", text) if not unicodedata.combining(c)\n",
    "    )"
   ]
  },
  {
   "cell_type": "code",
   "execution_count": 31,
   "metadata": {},
   "outputs": [
    {
     "name": "stdout",
     "output_type": "stream",
     "text": [
      "RESOLUCIÓN No. 502 073 DE 2024\n",
      "(11 JUL.2024)\n",
      "\n"
     ]
    },
    {
     "data": {
      "text/plain": [
       "{'name': 'RESOLUCIÓN No. 502 073 DE 2024',\n",
       " 'resolution_date': '2024-07-11',\n",
       " 'concept': '',\n",
       " 'full_text': 'Ministerio de Minas y Energía\\nCOMISIÓN DE REGULACIÓN DE ENERGÍA Y GAS\\nRESOLUCIÓN No. 502 073 DE 2024\\n(11 JUL.2024)\\nPor la cual se resuelve el recurso de reposición interpuesto por la empresa PROVIGAS COLOMBIA S.A. E.S.P. contra la resolución CREG 502 013 de 2023.\\nLA COMISIÓN DE REGULACIÓN DE ENERGÍA Y GAS\\nEn ejercicio de sus atribuciones constitucionales y legales, en especial las conferidas por la Ley 142 de 1994 y, en desarrollo de los Decretos 2253 de 1994 y 1260 de 2013, y\\nCONSIDERANDO QUE:\\nLa Comisión de Regulación de Energía y Gas, en su sesión No. 1244 del 17 de febrero de 2023, aprobó expedir la Resolución CREG 502 012 de 2023, “Por el cual se aprueba el cargo de distribución por uso del sistema de distribución de Gas Natural Comprimido – GNC por redes de tubería para el mercado relevante especial conformado por las veredas de Buenos Aires, Caracol, Caucho, Guarumo, Guacanonzo Alto, Guacanonzo Bajo, La Loma, Mercadillo, Sabana Larga, San Miguel, Santa Helena Alta y Santa Helena Baja en el municipio de Pandi, departamento de Cundinamarca.”, con sujeción a la metodología vigente para el efecto, contenida en las Resoluciones CREG 202 de 2013, 138 de 2014, 090 y 132 de 2018 y 011 de 2020, en adelante la Metodología de distribución. \\nEl mercado relevante aprobado mediante la Resolución CREG 502 012 de 2023 fue tramitado según lo dispuesto en el Numeral 6.6 del Artículo 6 de la Metodología de distribución “SOLICITUDES TRAMITADAS PARALELAMENTE” teniendo en cuenta que dos distribuidores PROVIGAS COLOMBIA S.A. E.S.P. y YAVEGAS S.A. E.S.P. solicitaron aprobación de cargos para el mismo mercado relevante de distribución especial ante la Comisión.\\nDe igual manera al tratarse de un nuevo mercado relevante de distribución, la Comisión de Regulación de Energía y Gas, en su sesión No. 1244 del 17 de febrero de 2023, aprobó expedir la Resolución CREG 502 013 de 2023, “Por el cual se aprueba el Componente Fijo del Costo de Comercialización para el mercado relevante conformado por las veredas de Buenos Aires, Caracol, Caucho, Guarumo, Guacanonzo Alto, Guacanonzo Bajo, La Loma, Mercadillo, Sabana Larga, San Miguel, Santa Helena Alta y Santa Helena Baja en el municipio de Pandi, departamento de Cundinamarca.”, con sujeción a la metodología vigente para el efecto, contenida en la Resolución CREG 102 003 de 2021, en adelante la Metodología de comercialización.  \\nEl mercado relevante aprobado mediante la Resolución CREG 502 013 de 2023 fue tramitado según lo dispuesto en el Numeral 19.5 del Artículo 19 de la Metodología de comercialización “Solicitudes de cargos tramitados paralelamente para mercados relevantes de comercialización existentes o nuevos” teniendo en cuenta que dos distribuidores PROVIGAS COLOMBIA S.A. E.S.P. y YAVEGAS S.A. E.S.P. solicitaron aprobación de cargos para el mismo mercado relevante de distribución especial ante la Comisión.\\nLas Resoluciones CREG 502 012 y 502 013 de 2023 fueron notificadas personalmente al Representante Legal de la empresa YAVEGAS S.A. E.S.P. el día 04 de mayo de 2023. \\nDe igual manera se envió citación para notificar personalmente a las empresas ALCANOS DE COLOMBIA S.A. E.S.P., PROVIGAS COLOMBIA S.A. E.S.P. y a la GOBERNACIÓN DE CUNDINAMARCA, teniendo en cuenta su condición de aportarte de recursos públicos para la cofinanciación de infraestructura de distribución en el mercado relevante especial mediante convenio de asociación No. SMEG-CDCASO-058-2021 por un valor de $519,798,365 pesos, mediante radicados S2023002519, S2023002520 y S2023002521 respectivamente.  \\nTeniendo en cuenta que no fue posible realizar la notificación personal de dichos actos administrativos, y en cumplimiento de lo dispuesto del Artículo 69 del C.P.A.C.A. se procedió a notificar por Aviso. Dichas notificaciones fueron surtidas los días el 19 de mayo de 2023 a la GOBERNACIÓN DE CUNDINAMARCA, el 23 de mayo de 2023 a la empresa ALCANOS DE COLOMBIA S.A. E.S.P. y el 23 de junio de 2023 a la empresa PROVIGAS COLOMBIA S.A. E.S.P.\\nComo consecuencia de que ninguna parte interesada interpuso recurso de reposición ante la Dirección Ejecutiva de la Comisión contra la Resolución CREG 502 012 de 2023, ésta quedó ejecutoriada y en firme al finalizar el día 04 de junio de 2023, dicha constancia fue notificada vía correo electrónico a cada una de las partes interesadas el 04 de agosto de 2023 mediante radicados CREG S2023003573, S2023003574, S2023003575 y S2023003576.\\nLas Resoluciones CREG 502 012 de 2023 y 502 013 de 2023 fueron publicadas en el Diario Oficial No. 52.477 del 04 de agosto de 2023.\\nSin embargo, la empresa PROVIGAS COLOMBIA S.A. E.S.P. mediante radicado CREG E2023015870 del 31 de agosto de 2023 solicitó a la Comisión la nulidad en la notificación de la Resolución CREG 502 012 de 2023 teniendo en cuenta que la notificación surtida por Aviso nunca llegó a la empresa.\\nEn este sentido, la Comisión procedió a revisar la notificación por Aviso de la empresa PROVIGAS COLOMBIA S.A. E.S.P., evidenciando que la misma fue remitida a una dirección física diferente a la de domicilio de la empresa, por lo tanto y con el fin de garantizar el derecho a la defensa de la empresa PROVIGAS COLOMBIA S.A. E.S.P. la Comisión dejó sin efecto la constancia de ejecutoria del 04 de agosto de 2023 y procedió a notificar vía correo electrónico a la empresa PROVIGAS COLOMBIA S.A. E.S.P mediante radicado CREG S2023004131 del 13 de agosto de 2023.\\nDentro del término legalmente establecido para el efecto, mediante comunicación radicada en la CREG bajo número E2023016859 del 20 de septiembre de 2023, el Representante Legal de la empresa PROVIGAS COLOMBIA S.A. E.S.P. interpuso recurso de reposición contra el acto administrativo notificado y solicitó lo siguiente:\\n…\\nCon base en los hechos y fundamentos anteriormente planteados, solicitó de manera respetuosa lo siguiente:\\nPRIMERO: Que se declare la nulidad absoluta de la diligencia de notificación de las resoluciones CREG 502 012 y 502 013 de 2023 “por la cual se aprueba el cargo de distribución y comercialización de Gas LP por redes de tubería para el mercado relevante conformado por las veredas de Buenos Aires, Caracol, Caucho, Guarumo, Guacanonzo alto, Guacanonzo bajo, La Loma, Mercadillo, Sabana Larga, San Miguel, Santa Helena alta y Santa Helena baja en el municipio de Pandi departamento de Cundinamarca””. por no haber observado el procedimiento administrativo de conformidad con la ley.\\nSEGUNDO: Que se valoren y se tengan en cuenta los ANTECEDENTES DE NUESTRA SOLICITUD TARIFARIA entre PROVIGAS COLOMBIA SA ESP Y LA ALCALDÍA MUNICIPAL DE PANDI CUNDINAMARCA, entre PROVIGAS COLOMBIA SA ESP Y LA GOBERNACIÓN DE CUNDINAMARCA, RADICACIÓN ALCANOS – PROVIGAS COLOMBIA SA ESP y de radicación ante la CREG Y UPME SOLICITUD TARIFARIA, en consideración a que la comunidad representada por las JUNTAS DE ACCION COMUNAL no notificaron a PROVIGAS COLOMBIA SA ESP del cambio de operador acordado en el acta de concertación que hace parte de la solicitud tarifaria radicada el 12 de agosto de 2021 ante la CREG, la alcaldía municipal de PANDI tampoco nos notificó la anulación de las autorizaciones para la intervención de vías de espacios públicos ni el cambio de operador, autorización que hace parte de la solicitud tarifaria radicada el 12 de agosto de 2021 ante la CREG, y la GOBERNACIÓN DE CUNDINAMARCA tampoco nos notificó el cambio de operador, ni devolvió los documentos que hacen parte de la formulación del proyecto, el cual se acordó en la última mesa técnica desarrollarlo por etapas, la valoración de la CREG en los costos no es posible compararla con la solicitud tarifaria de PROVIGAS COLOMBIA SA ESP que es presentada sin recursos públicos y con gas GLP y YAVEGAS la presenta con recursos públicos con gas GNC.\\nTERCERO: Que se DECLARE la nulidad absoluta de las resoluciones CREG 502 012 de 2023 y 502 013 de 2023, ya que la CREG, en la aprobación de las resoluciones a favor de YAVEGAS, no tuvo en cuenta el contenido del oficio del 20 de enero de 2023 enviado por PROVIGAS COLOMBIA SA ESP, y que en el presente relacionamos como “antecedentes” en el cual demostramos una actuación estrictamente ligada a la constitución nacional, al numeral 2 del Art. 9 – DERECHOS DE LOS USUARIOS, al Art. 73 – REGULACION DE MONOPOLIOS – COMPETENCIA DESLEAL de la LEY 142 DE 1994.\\nTeniendo en cuenta el error durante el proceso de notificación se deja constancia que las Resoluciones CREG 502 012 de 2023 y 502 013 de 2023 que habían sido publicadas en el Diario Oficial No. 52.477 del 04 de agosto de 2023 quedan sin efecto ya que estas aún no se encontraban en firme y deberán publicarse nuevamente junto con la resolución que resuelve el recurso de reposición interpuesto por la empresa PROVIGAS COLOMBIA S.A. E.S.P.\\nFUNDAMENTOS DEL RECURSO DE REPOSICIÓN INTERPUESTO POR PROVIGAS COLOMBIA S.A. E.S.P.\\nLa empresa Recurrente presenta los motivos de su inconformidad y sustenta su solicitud con los siguientes antecedentes:\\nEl 2 de agosto de 2021, PROVIGAS COLOMBIA SA ESP, radicó ante la UPME el proyecto para ser incluido en el plan de expansión, obteniendo respuesta el 12 de agosto de 2021.\\nEl 12 de agosto de 2021, PROVIGAS COLOMBIA SA ESP radicó el proyecto de solicitud tarifaria para distribución y comercialización de GLP por redes en el Mercado Relevante Especial comprendido por los Centros Poblados – caseríos rurales, de Buenos Aires, Caracol, Caucho, Guarumo, Guacanonzo Alto, Guacanonzo Bajo, La Loma, Mercadillo, Sabanalarga, San Miguel, Santa Helena Alta y Santa Helena Baja del municipio de Pandi en el Departamento de Cundinamarca.\\nEl 16 de septiembre de 2021, la CREG solicita a PROVIGAS COLOMBIA SA ESP una certificación expedida por parte del distribuidor que presta el servicio de gas en la cabecera municipal donde manifieste que no se encuentra interesado en la gasificación del sector rural.\\nEl 20 de septiembre de 2021, PROVIGAS COLOMBIA SA ESP da respuesta a la CREG a la solicitud, enviando constancias expedidas por parte de la secretaria de planeación del municipio de Pandi, y oficio solicitando a ALCANOS DE COLOMBIA expedir la constancia solicitada por la CREG.\\nEl 22 de septiembre de 2021, PROVIGAS COLOMBIA SA ESP envía comunicado a la CREG a la solicitud, adjuntando el radicado remitido por ALCANOS DE COLOMBIA sobre la solicitud de PROVIGAS.\\nEl 1 de octubre de 2021, la CREG autoriza a PROVIGAS COLOMBIA SA ESP 10 días adicionales al anterior oficio para esperar respuesta de la certificación de ALCANOS DE COLOMBIA.\\nEl 22 de octubre de 2021, PROVIGAS COLOMBIA SA ESP da respuesta a la CREG solicitando plazo adicional para poder obtener respuesta por parte de ALCANOS DE COLOMBIA.\\nEl 3 de noviembre de 2021, la CREG comunica a PROVIGAS COLOMBIA SA ESP, la extensión del plazo para esperar respuesta de ALCANOS DE COLOMBIA en 10 días.\\nEl 26 de noviembre de 2021, PROVIGAS COLOMBIA SA ESP da respuesta a la CREG solicitando plazo adicional para poder obtener respuesta por parte de ALCANOS DE COLOMBIA.\\nEl 6 de diciembre de 2021, la CREG comunica a PROVIGAS COLOMBIA SA ESP, que resuelven dar inicio a la actuación administrativa de aprobación de cargos y tarifas para PROVIGAS COLOMBIA SA ESP, teniendo en cuenta que ALCANOS DE COLOMBIA está retrasando el proceso por dilatar el envío de la certificación.\\nEl 16 de diciembre de 2021, la CREG comunica la vinculación de ALCANOS DE COLOMBIA como un tercero interesado.\\nEl 25 de febrero de 2022, la CREG solicita a PROVIGAS COLOMBIA SA ESP, justificación por la construcción de 3 subestaciones en el sector rural del municipio de Pandi – Cundinamarca.\\nEl 3 de marzo de 2022, PROVIGAS COLOMBIA SA ESP da respuesta a la CREG justificando la construcción de las 3 subestaciones en el sector rural del municipio de Pandi – Cundinamarca.\\nEl 8 de marzo de 2022, la CREG comunica la vinculación de YAVEGAS como un tercero interesado, después de 8 meses de radicada la solicitud tarifaria por parte de PROVIGAS COLOMBIA SA ESP.\\nEl 8 de junio de 2022, la CREG solicita a PROVIGAS COLOMBIA SA ESP, enviar nuevamente la información de cargos de comercialización del Apligas – documentos enviados en la radicación inicial del 12 de agosto de 2021.\\nEl 14 de junio de 2022, PROVIGAS COLOMBIA SA ESP da respuesta a la CREG enviando nuevamente la información solicitada.\\nEl 4 de octubre de 2022, la CREG solicita a PROVIGAS COLOMBIA SA ESP enviar resumen de la solicitud tarifaria, – documentos enviados en la radicación inicial del 12 de agosto de 2021; información que PROVIGAS COLOMBIA SA ESP envió nuevamente el mismo día que fue solicitada.\\nEl 11 de octubre de 2022, la CREG radicado a través del radicado S2022004714 solicita a PROVIGAS COLOMBIA SA ESP, comentar sobre la actuación – solicitud tarifaria de YAVEGAS según radicado CREG S-2022-00298 del 27 de enero de 2022, por ser una “solicitud de cargos, tramitados paralelamente”,\\nEl 29 de octubre de 2022, PROVIGAS COLOMBIA SA ESP da respuesta al radicado CREG s2022004714 del 11 de octubre de 2022, argumentando que NO estamos de acuerdo con el concepto SOLICITUDES PARALELAS, porque fue 6 meses posterior a la presentada por PROVIGAS COLOMBIA SA ESP el 12 de agosto de 2021.\\nEl 26 de diciembre de 2022, a través del radicado S2022006380, la CREG solicita a PROVIGAS COLOMBIA SA ESP, comentar sobre la actuación – solicitud tarifaria de YAVEGAS.\\nEl 29 de diciembre de 2022, PROVIGAS COLOMBIA SA ESP da respuesta al radicado CREG S2022006380 del 26 de octubre de 2022, argumentando que NO estamos de acuerdo con el concepto SOLICITUDES PARALELAS, porque fue 6 meses posterior a la presentada por PROVIGAS COLOMBIA SA ESP el 12 de agosto de 2021.\\nEl 2 de enero de 2023, a través del radicado S202200638 “Remisión anexo correcto de la comunicación” – la CREG radica contenido que coincide con el oficio con radicado CREG N° S2022004714 del 11 de octubre de 2022, solicitud tarifaria para distribución y comercialización de GLP por redes en el Mercado Relevante Especial comprendido por los Centros Poblados – caseríos rurales, de Buenos Aires, Caracol, Caucho, Guarumo, Guacanonzo Alto, Guacanonzo Bajo, La Loma, Mercadillo, Sabanalarga, San Miguel, Santa Helena Alta y Santa Helena Baja del municipio de Pandi en el Departamento de Cundinamarca\\nEl 20 de enero de 2023, PROVIGAS COLOMBIA SA ESP da respuesta al radicado S2022006380 del 2 de enero de 2023 “Remisión anexo correcto de la comunicación”, mismo radicado del 26 de diciembre de 2022, contenido que coincide con el oficio con radicado CREG N° S2022004714 del 11 de octubre de 2022, solicitud tarifaria para distribución y comercialización de GLP por redes en el Mercado Relevante Especial comprendido por los Centros Poblados – caseríos rurales, de Buenos Aires, Caracol, Caucho, Guarumo, Guacanonzo Alto, Guacanonzo Bajo, La Loma, Mercadillo, Sabanalarga, San Miguel, Santa Helena Alta y Santa Helena Baja del municipio de Pandi en el Departamento de Cundinamarca, al cual se dio respuesta el 29 de octubre de 2022, con respuesta de radicado CREG N° E2022013386 del 1 de noviembre de 2022.\\nEl 26 de abril de 2023, a través del radicado S2023002307, la CREG cita a PROVIGAS COLOMBIA SA ESP para notificar las resoluciones CREG 502 012 de 2023 y 502 013 de 2023.\\nEl 11 de mayo de 2023, PROVIGAS COLOMBIA SA ESP da respuesta al radicado CREG S2023002307 del 26 de abril de 2023, aceptando la notificación electrónica de las resoluciones CREG 502 012 de 2023 y 502 013 de 2023 adjuntando certificado de la cámara de comercio actualizado.\\nEl 03 de agosto de 2023, PROVIGAS COLOMBIA SA ESP envía oficio a la CREG solicitando información sobre la expedición de las resoluciones CREG 502 012 y 502 013 de 2023 “por la cual se aprueba el cargo de distribución y comercialización de Gas LP por redes de tubería para el mercado relevante conformado por las veredas de Buenos Aires, Caracol, Caucho, Guarumo, Guacanonzo alto, Guacanonzo bajo, La Loma, Mercadillo, Sabana Larga, San Miguel, Santa Helena alta y Santa Helena naja en el municipio de Pandi departamento de Cundinamarca”,\\nEl 4 de agosto de 2023, a través del radicado S2023003573 la CREG remite la constancia ejecutoria de las resoluciones CREG 502 012 de 2023 y 502 013 de 2023, según solicitud tarifaria presentada por la empresa YAVEGAS SA ESP.\\nEl 31 de agosto de 2023, PROVIGAS COLOMBIA SA ESP solicita la nulidad de las resoluciones CREG 502 012 de 2023 y 502 013 de 2023.\\nEl 13 de septiembre de 2023, a través del radicado S2023004131 la CREG envía correo con referencia “notificación vía correo electrónico de las resoluciones CREG 502 012 de 2023 y 502 013 de 2023.\\nAdicionalmente, la empresa Recurrente presenta los siguientes fundamentes de hecho:\\nEl 12 de agosto de 2021, PROVIGAS COLOMBIA radicó ante la CREG la solicitud tarifaria para distribución y comercialización de GLP por redes en el Mercado Especial comprendido por los Centros Poblados – caseríos rurales, de Buenos Aires, Caracol, Caucho, Guarumo, Guacanonzo Alto, Guacanonzo Bajo, La Loma, Mercadillo, Sabanalarga, San Miguel, Santa Helena Alta y Santa Helena Baja del municipio de Pandi en el Departamento de Cundinamarca. – radicado CREG S-2021004004.\\nLa Unidad de Planeación Minero-energética – UPME mediante radicado E-2021-015366 del 22 de diciembre de 2021, remitió concepto en el que considera que la metodología de proyección de demanda de gas propuesta por la empresa PROVIGAS COLOMBIA S.A. E.S.P. para las veredas de Buenos Aires, Caracol, Caucho, Guarumo, Guacanonzo Alto, Guacanonzo Bajo, La Loma, Mercadillo, Sabana Larga, San Miguel, Santa Helena Alta y Santa Helena Baja en el municipio de Pandi, departamento de Cundinamarca, cumple con los requerimientos contenidos en el Anexo 13 de la Resolución CREG 202 de 2013.\\nQue mediante comunicación del 12 de septiembre de 2023, el Asesor Jurídico de la Comisión de Regulación de Energía y Gas, CREG informa que se dejan sin efectos las constancias de ejecutoria de las Resoluciones CREG 502 012 de 2023: “Por la cual se aprueba el cargo de distribución para el mercado relevante especial conformado por las veredas de Buenos Aires, Caracol, Caucho, Guarumo, Guacanonzo Alto, Guacanonzo Bajo, La Loma, Mercadillo, Sabana Larga, San Miguel, Santa Helena Alta y Santa Helena Baja en el Municipio de Pandi, departamento de Cundinamarca, según solicitud tarifaria presentada por la empresa YAVEGAS S.A. E.S.P.” y 502 013 de 2023: Por la cual se aprueba el Componente Fijo del Costo de Comercialización para el mercado relevante especial conformado por las veredas de Buenos Aires, Caracol, Caucho, Guarumo, Guacanonzo Alto, Guacanonzo Bajo, La Loma, Mercadillo, Sabana Larga, San Miguel, Santa Helena Alta y Santa Helena Baja en el Municipio de Pandi, departamento de Cundinamarca, según solicitud tarifaria presentada por la empresa YAVEGAS S.A. E.S.P.”\\nMediante el DOCUMENTO CREG-502 009 17 DE FEBRERO DE 2023 la comisión indica que evaluó ambos Programas de Nuevas Inversiones y determinó que el Programa de Nuevas Inversiones a reconocer será el presentado por la empresa YAVEGAS S.A. E.S.P. teniendo en cuenta que es el más eficiente y adicionalmente cuenta con aportes de recursos públicos para su cofinanciación. \\nANÁLISIS DEL RECURSO INTERPUESTO \\nRespecto de la primera petición formulada por la Empresa recurrente encaminada a que se declare la nulidad absoluta de la diligencia de notificación de la resolución CREG 502 013 de 2023 por no haber observado el procedimiento administrativo de conformidad con la ley, es pertinente aclarar que la Comisión, en virtud de los errores cometidos en el trámite de notificación y, para garantizar el derecho al debido proceso y a la defensa del recurrente, dejó sin efectos la ejecutoria de las resoluciones atacadas el 12 de septiembre de 2023, así:\\nEl suscrito Asesor Jurídico de la Comisión de Regulación de Energía y Gas, CREG hace constar que se dejan sin efectos las constancias de ejecutoria de las Resoluciones CREG CREG 502 012 de 2023: Por la cual se aprueba el cargo de distribución para el mercado relevante especial conformado por las veredas de Buenos Aires, Caracol, Caucho, Guarumo, Guacanonzo Alto, Guacanonzo Bajo, La Loma, Mercadillo, Sabana Larga, San Miguel, Santa Helena Alta y Santa Helena Baja en el Municipio de Pandi, departamento de Cundinamarca, según solicitud tarifaria presentada por la empresa YAVEGAS S.A. E.S.P.” y 502 013 de 2023: Por la cual se aprueba el Componente Fijo del Costo de Comercialización para el mercado relevante especial conformado por las veredas de Buenos Aires, Caracol, Caucho, Guarumo, Guacanonzo Alto, Guacanonzo Bajo, La Loma, Mercadillo, Sabana Larga, San Miguel, Santa Helena Alta y Santa Helena Baja en el Municipio de Pandi, departamento de Cundinamarca, según solicitud tarifaria presentada por la empresa YAVEGAS S.A. E.S.P.”\\n(…)\\n(…) de esta forma se da la oportunidad para que la empresa PROVIGAS COLOMBIA S.A. E.S.P., haga uso del uso del debido proceso y el derecho de defensa que constitucionalmente le asiste dentro de la actuación.\\nCon posterioridad al levantamiento de los efectos de ejecutoria, la Comisión agotó nuevamente el trámite de notificación personal, como se desprende del oficio CREG S2023004131 del 13 de agosto de 2023, en el cual se dispuso:\\n(…)\\nREF. Notificación vía correo electrónico Resoluciones CREG 502 012 y 502 013 de 2023. \\nEn cumplimiento de lo señalado en el artículo 56 del Código de Procedimiento Administrativo y de lo Contencioso Administrativo, modificado por el artículo 10 de la Ley 2080 de 2021 y de acuerdo con lo solicitado por su entidad el día 25 de mayo de 2023, mediante correo electrónico radicado bajo No. E2023010454 y el día 01 de septiembre de 2023, mediante correo electrónico radicado bajo No. E2023015870, la COMISIÓN DE REGULACIÓN DE ENERGÍA Y GAS – CREG, procede a realizar notificación electrónica de las Resoluciones 502 012 de 2023 (…)\\nAsí las cosas, y teniendo en cuenta que la nulidad de la notificación pretendida por el recurrente busca que la CREG enmiende el error cometido en el trámite de la notificación de la Resolución 502 013 de 2023 y admita el análisis del recurso de reposición, se concluye que esa declaratoria no tiene lugar porque la irregularidad atacada ya fue debidamente saneada.\\nEn la segunda pretensión, el recurrente solicita que la Comisión tenga en cuenta unos antecedentes de la solicitud tarifaria, a saber:\\nQue la comunidad representada por las Juntas de Acción Comunal no notificó a PROVIGAS COLOMBIA SA ESP del cambio de operador acordado en el acta de concertación. \\nQue la Alcaldía de Pandi no le notificó la anulación de las autorizaciones para la intervención de vías de espacios públicos ni el cambio de operador.\\nQue la Gobernación de Cundinamarca no le notificó el cambio de operador, ni devolvió los documentos que hacen parte de la formulación del proyecto, el cual se acordó en la última mesa técnica desarrollarlo por etapas, y finalmente.\\nQue la valoración de la CREG en los costos no es posible compararla con la solicitud tarifaria de PROVIGAS COLOMBIA SA ESP que es presentada sin recursos públicos y con gas GLP y YAVEGAS la presenta con recursos públicos con gas GNC.\\nRespecto de los hechos narrados en los puntos i, ii y iii, se aclara que la asignación de cargos por parte de la CREG es una actividad reglada que proviene de la aplicación objetiva de su metodología. Por esta razón, la información necesaria para la expedición de tarifas de componente fijo del costo de comercialización de gas está limitada a los factores estrictamente estipulados en la Resolución 102 003 de 2022, lo cual se refleja en el cargue de los datos que los solicitantes ingresan en la plataforma Apligas, según el numeral 19.2 que  dicta lo siguiente:\\nLos estudios que se presenten a la Comisión para efectos de la aprobación de cargos de comercialización de gas combustible por redes de tubería a Usuarios Regulados deberán contener la información especificada en esta Resolución y los respectivos archivos en medio magnético, junto con la información incluida en la solicitud y que sea factible de ser suministrada por este medio. Sin embargo, la Comisión podrá solicitar toda la información adicional que considere relevante para el desempeño de sus funciones...\\nCon el propósito de comunicar la actuación administrativa a terceros, en los términos establecidos en la Ley 1437 de 2011 o aquella que la modifique, aclare o sustituya, se deberá incluir un resumen de la solicitud tarifaria presentada, que incluya, como mínimo, la información establecida en el ANEXO 4 de esta resolución.\\nPor su parte, el Anexo 4 arriba referenciado que resume el contenido de la solicitud tarifaria dictamina que la información a radicar en la CREG consta de la descripción de los municipios que conforman el mercado relevante, el numero de usuarios a la fecha base, el numero de facturas para cada uno de los municipios que conforman el mercado relevante de comercialización, el numero de usuarios proyectados, los gastos proyectados de AOM y finalmente la propuesta del componente fijo del costo de comercialización.\\nEn ese sentido, por mandato de la regulación tarifaria, la información requerida para el cálculo de cargos eficientes se limita a una evaluación de componentes taxativos que propenden por un examen objetivo de la Comisión, que no puede ser influenciado por situaciones subjetivas adicionales a las expresadas en la ley, como lo plantea el recurrente. Es decir, la Comisión no puede contemplar el contexto o resultado de las negociaciones entre el recurrente con las comunidades o el presunto comportamiento extracontractual de los representantes de los entes territoriales e incorporarlo al estudio de la solicitud tarifaria.\\nAdicionalmente, el principio de eficiencia económica que orienta el régimen tarifario tiene la finalidad de beneficiar al usuario final con la prestación de un servicio de calidad, cuyo costo represente precios de un mercado competitivo y, por ende, las fórmulas tarifarias no pueden trasladar a los usuarios los costos de una gestión ineficiente. \\nPor todo lo expuesto, se reitera que los antecedentes i, ii y iii no son argumentos para que la Comisión se incline a asignar unos cargos tarifarios, pues estos no son factores estimados por la regulación.\\nEn lo que respecta al antecedente número iv, sobre la presunta imposibilidad de la CREG para comparar las solicitudes tarifarias heterogéneas de las empresas, por la diferencia entre el combustible a distribuir y la existencia de recursos públicos, acudimos a lo establecido en el literal a del Numeral 19.5 del Artículo 19 de la Resolución CREG 102 003 de 2022 que dice:\\n19.5 Solicitudes de cargos tramitados paralelamente para mercados relevantes de comercialización existentes o nuevos\\nCuando más de un Comercializador Minorista presente solicitud de aprobación de Cargos de Comercialización para un mismo Mercado Relevante de Comercialización para el Siguiente Período Tarifario que esté conformado por los mismos municipios o cuando se trate de Mercados Relevantes diferentes, pero en los que coincida(n) algún (o algunos) municipio(s), la Comisión procederá de la siguiente forma: \\nMercados Nuevos:\\nUna vez iniciadas las actuaciones administrativas, se enviará a cada Comercializador Minorista solicitante un resumen de la otra(s) solicitud(es) a efectos de que, dentro de los diez (10) días hábiles siguientes al envío de la comunicación, éstos formulen sus comentarios sobre la(s) misma(s).\\nSurtido lo anterior y, en caso de Municipios Nuevos para el Mercado Relevante de Comercialización para el Siguiente Período Tarifario, la CREG evaluará las dos o más solicitudes tarifarias, y se aprobará el Cargo Fijo de Comercialización con base en la información de aquella solicitud que cumpla con los mejores indicadores en relación con los costos totales de prestación de servicio al usuario y cobertura.\\nLa Comisión realizó el mencionado procedimiento que cual se encuentra en el numeral 4.3 ANALISIS DEÑAS SOLICITUDES TARIFARIAS del Documento CREG 502 010, soporte de la Resolución CREG 502 013 de 2023 el cual se relaciona a continuación:\\n…dando cumplimiento a lo establecido en el literal a) del Numeral 19.5 del Artículo 19 de la Metodología, la Comisión, mediante radicados CREG S2022006380 y S2022006381 del 26 de diciembre de 2022, procedió a remitir a cada comercializador minorista un resumen de la solicitud de la contraparte con el fin de recibir comentarios sobre la mismas, dentro de los diez (10) días hábiles siguientes.\\nMediante radicado CREG E2022016135 del 29 de diciembre de 2022, la empresa PROVIGAS COLOMBIA S.A. E.S.P. remitió a esta Comisión los comentarios sobre la solicitud de la empresa YAVEGAS S.A. E.S.P.\\nPor su parte la empresa YAVEGAS S.A. E.S.P., mediante radicado CREG E2023000227 del 10 de enero de 2023, manifestó no tener comentarios en relación con la solicitud de la empresa PROVIGAS COLOMBIA S.A. E.S.P.\\nSurtido lo anterior, la Comisión dio continuidad al proceso de análisis de las solicitudes tramitadas paralelamente con el fin de aprobar el Cargo Fijo de Comercialización con base en la información de aquella solicitud que cumpla con los mejores indicadores en relación con los costos totales de prestación de servicio al usuario y cobertura.\\nTeniendo en cuenta el numeral b del procedimiento anteriormente señalado, la Comisión analizó los indicadores de cobertura y de costos totales para la prestación del servicio con el fin de determinar cuál de las dos solicitudes cumplía con los indicadores más eficientes, y así definir el cargo para ese mercado relevante especial.\\nSobre el Indicador de cobertura, ambas empresas presentaron la misma proyección de demanda avalada por la Unidad de Planeación Minerio Energética – UPME, como se puede evidenciar en el documento CREG 502 010 soporte de la Resolución CREG 502 013 de 2023, en este sentido este indicador no fue determinante para definir el cargo.\\nEn cuanto al Indicador de costos totales de prestación del servicio, se tuvo en cuenta por un lado el programa de nuevas inversiones presentado por cada empresa y una estimación del costo unitario de prestación del servicio de cara al usuario final.\\nEl programa de nuevas inversiones presentado por la empresa PROVIGAS COLOMBIA S.A. E.S.P. tenía un costo de 4,159,904,272 (pesos de diciembre de 2021), por su parte, el programa de nuevas inversiones presentado por la empresa YAVEGAS S.A. E.S.P. tenía un costo total de 3,211,821,518 (pesos de diciembre de 2021). Solo por el tema de inversiones, la empresa YAVEGAS S.A. E.S.P. tenía un programa de inversiones 948,082,754 (pesos de diciembre de 2021) más económico.\\nAdicionalmente, la solicitud de la empresa YAVEGAS S.A. E.S.P. contaba con aportes de recursos públicos por parte de la Secretaría de Minas, Energía y Gas de la GOBERNACIÓN DE CUNDINAMARCA para la cofinanciación del sistema de distribución mediante el convenio SMEG-CDCASO-058-2021 por un valor de 519,794,365 millones de pesos, el cual se tuvo en cuenta a la hora de realizar la estimación de los costos totales de prestación del servicio para el mercado relevante solicitado.\\nLa Comisión también realizó una estimación del costo unitario de prestación del servicio comparando las propuestas de las empresas el cual se presenta a continuación:\\nPara el ejercicio de estimación del costo unitario de prestación del servicio se consideraron las demandas proyectadas al 5 año de la proyección presentadas por cada una de las empresas siendo 5.35 m3 para GLP y 13 m3 para GNC.\\nLas componentes de producción y transporte fueron tomadas del Sistema Único de Información – SUI administrado por la Superintendencia de Servicios Públicos Domiciliarios – SSPD para el mes de diciembre de 2023.\\nLas componentes de Distribución y Comercialización fueron las componentes calculadas con la información reportada por cada empresa e indexadas de pesos de fecha base 2021 a pesos de 2023 teniendo en cuenta que esta es la mejor información disponible reportada en el SUI.\\nPor otra parte, se incluyó en el análisis el subsidio del 60% para usuarios estrato 1 ya que estos representan el 100% de los usuarios del mercado relevante especial aprobado en la Resolución CREG 502 012 de 2023.\\nCabe señalar que este mismo procedimiento se aplicó dentro del análisis de la componente del Costo Fijo de Comercialización.\\nAl final se puede observar que la estimación del costo total de prestación del servicio más eficiente para el mercado relevante especial aprobado en la Resolución CREG 502 013 de 2023 corresponde al estudio tarifario presentado por la empresa YAVEGAS S.A. E.S.P. quien fue a la que la Comisión aprobó el componente fijo del costo de comercialización de GNC por redes de tubería.\\nEs pertinente aclarar que los cargos aprobados por la Comisión son determinados para los mercados relevantes mas no para las empresas que los solicitan.\\nLa exposición precedente, contrario a lo afirmado por el recurrente, demuestra que, bajo los preceptos regulatorios, es perfectamente adecuado y posible comparar ambas solicitudes tarifarias, al mismo tiempo que escoger la más eficiente en los términos adoptados por la metodología y los principios que rigen la prestación de los servicios públicos.\\nFinalmente, en lo que respecta a la última pretensión del recurso en la que se solicita la nulidad de la Resolución 502 013 de 2023 con fundamento en que la CREG, para la asignación del cargo, presuntamente no tuvo en cuenta el oficio enviado por Provigas Colombia S.A E.S.P. el 20 de enero de 2023, se precisa que la Comisión siguió todos los procesos establecidos en la regulación y estudió todos los argumentos allegados por los solicitantes, fundando su decisión final en los factores objetivamente relevantes de acuerdo con la metodología.\\nCon base en lo expuesto, la Comisión de Regulación de Energía y Gas, en su sesión No. 1328 del 11 de julio de 2024, aprobó expedir la presente Resolución y, en consecuencia,\\nRESUELVE:\\nARTÍCULO 1. No reponer la Resolución CREG 502 012 de 2023, con base en lo dispuesto en la parte considerativa del presente acto administrativo. \\nARTÍCULO 2. La presente Resolución deberá notificarse al representante legal de las empresas PROVIGAS COLOMBIA S.A. E.S.P., YAVEGAS S.A. E.S.P. y ALCANOS DE COLOMBIA S.A. E.S.P. y a la GOBERNACIÓN DE CUNDINAMARCA, y una vez en firme, deberá publicarse en el Diario Oficial, advirtiéndoles que contra la misma no procede recurso alguno.\\nNOTIFÍQUESE, PUBLÍQUESE Y CÚMPLASE\\nDada en Bogotá, D.C. a los 11 días de julio 2024.',\n",
       " 'process_date': '2025-01-19'}"
      ]
     },
     "execution_count": 31,
     "metadata": {},
     "output_type": "execute_result"
    }
   ],
   "source": [
    "import docx\n",
    "from datetime import datetime\n",
    "\n",
    "\n",
    "filename = \"ArId=1240700.docx\"\n",
    "doc = docx.Document(f\"../data/{filename}\")\n",
    "resolution_metadata = {}\n",
    "resolution_values_para = [0,1]\n",
    "\n",
    "resolution_name = doc.paragraphs[resolution_values_para[0]].text\n",
    "while not resolution_name.startswith(\"RESOLUCIÓN\"):\n",
    "    resolution_values_para[0] += 1\n",
    "    resolution_name = doc.paragraphs[resolution_values_para[0]].text\n",
    "    resolution_name = remove_accents(resolution_name)\n",
    "\n",
    "resolution_date = doc.paragraphs[resolution_values_para[1]].text\n",
    "while not resolution_date.startswith(\"(\"):\n",
    "    resolution_values_para[1] += 1\n",
    "    resolution_date = doc.paragraphs[resolution_values_para[1]].text\n",
    "\n",
    "resolution_concept = doc.paragraphs[resolution_values_para[1]+1].text\n",
    "while resolution_concept == \"\":\n",
    "    resolution_values_para[1] += 1\n",
    "    resolution_concept = doc.paragraphs[resolution_values_para[1]+1].text\n",
    "    resolution_concept = remove_accents(resolution_concept)\n",
    "\n",
    "print(resolution_name)\n",
    "print(resolution_date)\n",
    "print(resolution_concept)\n",
    "resolution_date = resolution_date.replace(\"(\", \"\").replace(\")\", \"\").replace(\".\", \" \")\n",
    "day, month, year = resolution_date.split()\n",
    "month_en = month_index_translation.get(month, month)\n",
    "date_english = f\"{day} {month_en} {year}\"\n",
    "resolution_date = datetime.strptime(date_english, \"%d %b %Y\")\n",
    "resolution_concept = doc.paragraphs[10].text\n",
    "full_text = [p.text for p in doc.paragraphs]\n",
    "full_text = [p for p in full_text if p]  # Remove empty paragraphs\n",
    "full_text = [remove_accents(p) for p in full_text]\n",
    "resolution_metadata = {\n",
    "    \"name\": resolution_name,\n",
    "    \"resolution_date\": resolution_date.strftime(\"%Y-%m-%d\"),\n",
    "    \"concept\": resolution_concept,\n",
    "    \"full_text\": \"\\n\".join(full_text),\n",
    "    \"process_date\": datetime.now().strftime(\"%Y-%m-%d\"),\n",
    "}\n",
    "resolution_metadata"
   ]
  },
  {
   "cell_type": "code",
   "execution_count": 17,
   "metadata": {},
   "outputs": [
    {
     "name": "stdout",
     "output_type": "stream",
     "text": [
      "ArId=1137299.docx\n",
      "ArId=1146929.docx\n",
      "Error processing <docx.document.Document object at 0x0000018E782087D0>: Package not found at '../data/ArId=1146929.docx'\n",
      "ArId=1240700.docx\n",
      "ArId=1247707.docx\n",
      "ArId=1260044.docx\n",
      "Error processing <docx.document.Document object at 0x0000018E77CC3690>: Package not found at '../data/ArId=1260044.docx'\n",
      "ArId=1278579.docx\n",
      "ArId=1285714.docx\n",
      "Error processing <docx.document.Document object at 0x0000018E77CC35B0>: Package not found at '../data/ArId=1285714.docx'\n",
      "ArId=1301602.docx\n",
      "ArId=1307671.docx\n",
      "ArId=1309129.docx\n",
      "ArId=1309942.docx\n",
      "ArId=1312179.docx\n",
      "Error processing <docx.document.Document object at 0x0000018E78211180>: Package not found at '../data/ArId=1312179.docx'\n",
      "ArId=1312315.docx\n",
      "Error processing <docx.document.Document object at 0x0000018E78211180>: Package not found at '../data/ArId=1312315.docx'\n",
      "ArId=1317266.docx\n",
      "Error processing <docx.document.Document object at 0x0000018E78211180>: Package not found at '../data/ArId=1317266.docx'\n",
      "ArId=1318022.docx\n",
      "Error processing <docx.document.Document object at 0x0000018E78211180>: Package not found at '../data/ArId=1318022.docx'\n",
      "ArId=1318129.docx\n",
      "Error processing <docx.document.Document object at 0x0000018E78211180>: Package not found at '../data/ArId=1318129.docx'\n",
      "ArId=1318685.docx\n",
      "Error processing <docx.document.Document object at 0x0000018E78211180>: Package not found at '../data/ArId=1318685.docx'\n",
      "ArId=1321415.docx\n",
      "Error processing <docx.document.Document object at 0x0000018E78211180>: Package not found at '../data/ArId=1321415.docx'\n",
      "ArId=1322199.docx\n",
      "Error processing <docx.document.Document object at 0x0000018E78211180>: file '../data/ArId=1322199.docx' is not a Word file, content type is 'application/vnd.ms-excel.sheet.macroEnabled.main+xml'\n",
      "ArId=1326344.docx\n",
      "Error processing <docx.document.Document object at 0x0000018E78211180>: Package not found at '../data/ArId=1326344.docx'\n",
      "ArId=1328251.docx\n",
      "ArId=1331473.docx\n",
      "Error processing <docx.document.Document object at 0x0000018E78211DE0>: Package not found at '../data/ArId=1331473.docx'\n",
      "ArId=1337006.docx\n",
      "Error processing <docx.document.Document object at 0x0000018E78211DE0>: Package not found at '../data/ArId=1337006.docx'\n",
      "ArId=1337181.docx\n",
      "Error processing <docx.document.Document object at 0x0000018E78211DE0>: Package not found at '../data/ArId=1337181.docx'\n",
      "ArId=1337187.docx\n",
      "Error processing <docx.document.Document object at 0x0000018E78211DE0>: Package not found at '../data/ArId=1337187.docx'\n",
      "ArId=1337188.docx\n",
      "ArId=1337383.docx\n",
      "Error processing <docx.document.Document object at 0x0000018E781D9D10>: Package not found at '../data/ArId=1337383.docx'\n"
     ]
    }
   ],
   "source": [
    "# open a word document and get the content\n",
    "import docx\n",
    "from datetime import datetime\n",
    "\n",
    "documents = [f for f in os.listdir(\"../data\") if f.endswith(\".docx\")]\n",
    "resolutions = []\n",
    "\n",
    "for resolution in documents:\n",
    "    try:\n",
    "        print(resolution)\n",
    "        doc = docx.Document(f\"../data/{resolution}\")\n",
    "        resolution_metadata = {}\n",
    "        resolution_values_para = [0,1]\n",
    "\n",
    "        resolution_name = doc.paragraphs[resolution_values_para[0]].text\n",
    "        while not resolution_name.startswith(\"RESOLUCIÓN\"):\n",
    "            resolution_values_para[0] += 1\n",
    "            resolution_name = doc.paragraphs[resolution_values_para[0]].text\n",
    "\n",
    "        resolution_date = doc.paragraphs[resolution_values_para[1]].text\n",
    "        while not resolution_date.startswith(\"(\"):\n",
    "            resolution_values_para[1] += 1\n",
    "            resolution_date = doc.paragraphs[resolution_values_para[1]].text\n",
    "\n",
    "        resolution_date = resolution_date.replace(\"(\", \"\").replace(\")\", \"\").replace(\".\", \" \")\n",
    "        day, month, year = resolution_date.split()\n",
    "        month_en = month_index_translation.get(month, month)\n",
    "        date_english = f\"{day} {month_en} {year}\"\n",
    "        resolution_date = datetime.strptime(date_english, \"%d %b %Y\")\n",
    "        resolution_concept = doc.paragraphs[10].text\n",
    "        full_text = [p.text for p in doc.paragraphs]\n",
    "        full_text = [p for p in full_text if p]  # Remove empty paragraphs\n",
    "        resolution_metadata = {\n",
    "            \"name\": resolution_name,\n",
    "            \"resolution_date\": resolution_date.strftime(\"%Y-%m-%d\"),\n",
    "            \"concept\": resolution_concept,\n",
    "            \"full_text\": \"\\n\".join(full_text),\n",
    "            \"process_date\": datetime.now().strftime(\"%Y-%m-%d\"),\n",
    "        }\n",
    "        resolutions.append(resolution_metadata)\n",
    "        # delete the document\n",
    "        os.remove(f\"../data/{resolution}\")\n",
    "    except Exception as e:\n",
    "        print(f\"Error processing {doc}: {e}\")\n",
    "        # move doc to another folder\n",
    "        os.rename(f\"../data/{resolution}\", f\"../data/to_check/{resolution}\")\n",
    "        continue"
   ]
  },
  {
   "cell_type": "code",
   "execution_count": 18,
   "metadata": {},
   "outputs": [],
   "source": [
    "# save the list of dicctionaries\n",
    "import json\n",
    "\n",
    "file_name = f\"resolutions_processed_{datetime.now().strftime(\"%Y-%m-%d\")}.json\"\n",
    "folder = \"../data/processed\"\n",
    "file_path = os.path.join(folder, file_name)\n",
    "\n",
    "# Save as JSON\n",
    "with open(file_path, \"w\", encoding=\"utf-8\") as f:\n",
    "    json.dump(resolutions, f, indent=4)"
   ]
  }
 ],
 "metadata": {
  "kernelspec": {
   "display_name": "energy_sector_agent",
   "language": "python",
   "name": "python3"
  },
  "language_info": {
   "codemirror_mode": {
    "name": "ipython",
    "version": 3
   },
   "file_extension": ".py",
   "mimetype": "text/x-python",
   "name": "python",
   "nbconvert_exporter": "python",
   "pygments_lexer": "ipython3",
   "version": "3.13.1"
  }
 },
 "nbformat": 4,
 "nbformat_minor": 2
}
