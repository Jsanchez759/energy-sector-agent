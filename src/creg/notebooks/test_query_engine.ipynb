{
 "cells": [
  {
   "cell_type": "code",
   "execution_count": 1,
   "metadata": {},
   "outputs": [],
   "source": [
    "from llama_index.core import Document, VectorStoreIndex, Settings, StorageContext\n",
    "import json\n",
    "from llama_index.llms.ollama import Ollama\n",
    "from llama_index.embeddings.ollama import OllamaEmbedding\n",
    "from llama_index.core.llms import ChatMessage\n",
    "import chromadb\n",
    "from llama_index.vector_stores.chroma import ChromaVectorStore"
   ]
  },
  {
   "cell_type": "code",
   "execution_count": 9,
   "metadata": {},
   "outputs": [],
   "source": [
    "llm = Ollama(model=\"llama3.2:3b\", request_timeout=120.0)\n",
    "Settings.llm = llm\n",
    "embedding_model = OllamaEmbedding(\n",
    "    model_name=\"mxbai-embed-large\",\n",
    "    base_url=\"http://localhost:11434\",\n",
    "    ollama_additional_kwargs={\"mirostat\": 0},\n",
    ")\n",
    "Settings.embed_model = embedding_model"
   ]
  },
  {
   "cell_type": "code",
   "execution_count": 3,
   "metadata": {},
   "outputs": [],
   "source": [
    "with open(\"../data/processed/resolutions_processed.json\") as f:\n",
    "    data = json.load(f)"
   ]
  },
  {
   "cell_type": "code",
   "execution_count": 4,
   "metadata": {},
   "outputs": [],
   "source": [
    "documents = [\n",
    "    Document(\n",
    "        text=item[\"full_text\"],\n",
    "        metadata={\n",
    "            \"name\": item[\"name\"],\n",
    "            \"resolution_date\": item[\"resolution_date\"],\n",
    "            \"concept\": item[\"concept\"],\n",
    "            \"process_date\": item[\"process_date\"],\n",
    "        },\n",
    "    )\n",
    "    for item in data\n",
    "]"
   ]
  },
  {
   "cell_type": "code",
   "execution_count": 5,
   "metadata": {},
   "outputs": [],
   "source": [
    "db = chromadb.PersistentClient(path=\"../../../chroma_db\")\n",
    "chroma_collection = db.get_or_create_collection(\"creg_index\")"
   ]
  },
  {
   "cell_type": "code",
   "execution_count": 6,
   "metadata": {},
   "outputs": [],
   "source": [
    "vector_store = ChromaVectorStore(chroma_collection=chroma_collection)\n",
    "storage_context = StorageContext.from_defaults(vector_store=vector_store)"
   ]
  },
  {
   "cell_type": "code",
   "execution_count": 10,
   "metadata": {},
   "outputs": [],
   "source": [
    "index = VectorStoreIndex.from_documents(\n",
    "    documents,\n",
    "    storage_context=storage_context,\n",
    "    async_insert=True,\n",
    "    embedding_model=embedding_model\n",
    ")"
   ]
  },
  {
   "cell_type": "code",
   "execution_count": 11,
   "metadata": {},
   "outputs": [
    {
     "data": {
      "text/plain": [
       "Response(response='Esta resolución se emitió el 11 de julio de 2024 y aborda la nulidad de la Resolución CREG 502 013 de 2023, solicitada por una empresa. La Comisión de Regulación de Energía y Gas (CREG) estudió todos los argumentos allegados por los solicitantes y basó su decisión en factores objetivamente relevantes. En consecuencia, la CREG decidió no reponer la mencionada Resolución 502 013 de 2023. La resolución también establece que se notificará a varias entidades y se publicará en el Diario Oficial.', source_nodes=[NodeWithScore(node=TextNode(id_='c4f370e5-9544-45ee-81bd-fc7557c55d98', embedding=None, metadata={'name': 'RESOLUCIÓN No. 502 073 DE 2024', 'resolution_date': '2024-07-11', 'concept': '', 'process_date': '2025-01-19'}, excluded_embed_metadata_keys=[], excluded_llm_metadata_keys=[], relationships={<NodeRelationship.SOURCE: '1'>: RelatedNodeInfo(node_id='a306ee13-6d73-4e78-aa03-fee8726b761c', node_type='4', metadata={'name': 'RESOLUCIÓN No. 502 073 DE 2024', 'resolution_date': '2024-07-11', 'concept': '', 'process_date': '2025-01-19'}, hash='1611108fbfc5637fb5986a7805ada14171f631606439b349e469bfa32a758d63'), <NodeRelationship.PREVIOUS: '2'>: RelatedNodeInfo(node_id='5160d8f7-27fd-4c8f-9d84-b0c23ed2b189', node_type='1', metadata={'name': 'RESOLUCIÓN No. 502 073 DE 2024', 'resolution_date': '2024-07-11', 'concept': '', 'process_date': '2025-01-19'}, hash='e7f505e7014c6bec6dea5227a6b9996ada76728ce7bb0df005eb41fcc7ca1da2')}, metadata_template='{key}: {value}', metadata_separator='\\n', text='Finalmente, en lo que respecta a la última pretensión del recurso en la que se solicita la nulidad de la Resolución 502 013 de 2023 con fundamento en que la CREG, para la asignación del cargo, presuntamente no tuvo en cuenta el oficio enviado por Provigas Colombia S.A E.S.P. el 20 de enero de 2023, se precisa que la Comisión siguió todos los procesos establecidos en la regulación y estudió todos los argumentos allegados por los solicitantes, fundando su decisión final en los factores objetivamente relevantes de acuerdo con la metodología.\\nCon base en lo expuesto, la Comisión de Regulación de Energía y Gas, en su sesión No. 1328 del 11 de julio de 2024, aprobó expedir la presente Resolución y, en consecuencia,\\nRESUELVE:\\nARTÍCULO 1. No reponer la Resolución CREG 502 012 de 2023, con base en lo dispuesto en la parte considerativa del presente acto administrativo. \\nARTÍCULO 2. La presente Resolución deberá notificarse al representante legal de las empresas PROVIGAS COLOMBIA S.A. E.S.P., YAVEGAS S.A. E.S.P. y ALCANOS DE COLOMBIA S.A. E.S.P. y a la GOBERNACIÓN DE CUNDINAMARCA, y una vez en firme, deberá publicarse en el Diario Oficial, advirtiéndoles que contra la misma no procede recurso alguno.\\nNOTIFÍQUESE, PUBLÍQUESE Y CÚMPLASE\\nDada en Bogotá, D.C. a los 11 días de julio 2024.', mimetype='text/plain', start_char_idx=33158, end_char_idx=34452, metadata_seperator='\\n', text_template='{metadata_str}\\n\\n{content}'), score=7.130988113539297e-47), NodeWithScore(node=TextNode(id_='83791f9c-63c3-4f96-a9b0-55c16ccae3f4', embedding=None, metadata={'name': 'RESOLUCIÓN CREG No. 101 062 DE 2024', 'resolution_date': '2024-11-18', 'concept': 'LA COMISIÓN DE REGULACIÓN DE ENERGÍA Y GAS', 'process_date': '2025-01-19'}, excluded_embed_metadata_keys=[], excluded_llm_metadata_keys=[], relationships={<NodeRelationship.SOURCE: '1'>: RelatedNodeInfo(node_id='cb8388fc-47ac-486e-b03a-bc163bc90b4d', node_type='4', metadata={'name': 'RESOLUCIÓN CREG No. 101 062 DE 2024', 'resolution_date': '2024-11-18', 'concept': 'LA COMISIÓN DE REGULACIÓN DE ENERGÍA Y GAS', 'process_date': '2025-01-19'}, hash='5d1ae3fc36011a8a2318791c858e4e049aa64fbef90045dfb6427a05e522acf9'), <NodeRelationship.PREVIOUS: '2'>: RelatedNodeInfo(node_id='829fc0b3-90cd-411f-8bb7-73ba42296593', node_type='1', metadata={'name': 'RESOLUCIÓN CREG No. 101 062 DE 2024', 'resolution_date': '2024-11-18', 'concept': 'LA COMISIÓN DE REGULACIÓN DE ENERGÍA Y GAS', 'process_date': '2025-01-19'}, hash='b5d45fc80904d41f32c292d4f0ab3a3b37e0f018638ec682224c413ce8ec816d')}, metadata_template='{key}: {value}', metadata_separator='\\n', text='Las respuestas estarán a cargo del ASIC, con base en la regulación vigente, en caso de no ser posible resolver la reclamación el ASIC tendrá la facultad de suspender la Subasta y dar traslado a la CREG.\\nPara subastas de que trata el literal b) del numeral 2.8 de este reglamento, el ASIC publicará el procedimiento a seguir y podrá decidir cuales reglas se heredan del inciso anterior de este numeral.\\nVigencias. La presente resolución rige a partir de la fecha de su publicación en el Diario Oficial. \\nPUBLÍQUESE Y CÚMPLASE\\nDada en Bogotá, D.C. a\\xa0los 18 días del mes de noviembre de 2024.\\ncronograma general para el reporte de información y ejecución de la subasta de reconfiguración de compra para los periodos 2025-2026, 2026-2027 y 2027-2028', mimetype='text/plain', start_char_idx=38612, end_char_idx=39357, metadata_seperator='\\n', text_template='{metadata_str}\\n\\n{content}'), score=1.4695927809040965e-48)], metadata={'c4f370e5-9544-45ee-81bd-fc7557c55d98': {'name': 'RESOLUCIÓN No. 502 073 DE 2024', 'resolution_date': '2024-07-11', 'concept': '', 'process_date': '2025-01-19'}, '83791f9c-63c3-4f96-a9b0-55c16ccae3f4': {'name': 'RESOLUCIÓN CREG No. 101 062 DE 2024', 'resolution_date': '2024-11-18', 'concept': 'LA COMISIÓN DE REGULACIÓN DE ENERGÍA Y GAS', 'process_date': '2025-01-19'}})"
      ]
     },
     "execution_count": 11,
     "metadata": {},
     "output_type": "execute_result"
    }
   ],
   "source": [
    "query_engine = index.as_query_engine()\n",
    "response = query_engine.query(\"Dime sobre la RESOLUCIÓN No. 502 073 DE 2024 de la CREG\")\n",
    "response"
   ]
  },
  {
   "cell_type": "code",
   "execution_count": 12,
   "metadata": {},
   "outputs": [
    {
     "data": {
      "text/plain": [
       "'Esta resolución se emitió el 11 de julio de 2024 y aborda la nulidad de la Resolución CREG 502 013 de 2023, solicitada por una empresa. La Comisión de Regulación de Energía y Gas (CREG) estudió todos los argumentos allegados por los solicitantes y basó su decisión en factores objetivamente relevantes. En consecuencia, la CREG decidió no reponer la mencionada Resolución 502 013 de 2023. La resolución también establece que se notificará a varias entidades y se publicará en el Diario Oficial.'"
      ]
     },
     "execution_count": 12,
     "metadata": {},
     "output_type": "execute_result"
    }
   ],
   "source": [
    "response.response"
   ]
  }
 ],
 "metadata": {
  "kernelspec": {
   "display_name": ".venv",
   "language": "python",
   "name": "python3"
  },
  "language_info": {
   "codemirror_mode": {
    "name": "ipython",
    "version": 3
   },
   "file_extension": ".py",
   "mimetype": "text/x-python",
   "name": "python",
   "nbconvert_exporter": "python",
   "pygments_lexer": "ipython3",
   "version": "3.12.9"
  }
 },
 "nbformat": 4,
 "nbformat_minor": 2
}
