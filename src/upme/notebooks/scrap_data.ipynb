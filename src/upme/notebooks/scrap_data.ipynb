{
 "cells": [
  {
   "cell_type": "code",
   "execution_count": 13,
   "metadata": {},
   "outputs": [],
   "source": [
    "from selenium import webdriver\n",
    "from selenium.webdriver.common.by import By\n",
    "from selenium.webdriver.support.ui import WebDriverWait\n",
    "from selenium.webdriver.support import expected_conditions as EC\n",
    "from bs4 import BeautifulSoup\n",
    "import os\n",
    "import requests"
   ]
  },
  {
   "cell_type": "code",
   "execution_count": 7,
   "metadata": {},
   "outputs": [],
   "source": [
    "options = webdriver.ChromeOptions()\n",
    "options.add_argument(\"--headless\")  # Run in headless mode (optional)\n",
    "options.add_argument(\"--no-sandbox\")\n",
    "options.add_argument(\"--disable-dev-shm-usage\")\n",
    "options.add_argument(\"start-maximized\")\n",
    "options.add_argument(\"disable-infobars\")\n",
    "options.add_argument(\"--disable-blink-features=AutomationControlled\")\n",
    "options.add_argument(\n",
    "    \"user-agent=Mozilla/5.0 (Windows NT 10.0; Win64; x64) AppleWebKit/537.36 (KHTML, like Gecko) Chrome/119.0.0.0 Safari/537.36\"\n",
    ")\n",
    "\n",
    "# Initialize WebDriver\n",
    "driver = webdriver.Chrome(options=options)"
   ]
  },
  {
   "cell_type": "code",
   "execution_count": 8,
   "metadata": {},
   "outputs": [],
   "source": [
    "url = \"https://www1.upme.gov.co/Entornoinstitucional/Biblioteca-juridica/Paginas/Resoluciones-UPME-Energia-electrica.aspx\"\n",
    "driver.get(url)\n",
    "\n",
    "    # Wait until a specific element is present (modify as needed)\n",
    "WebDriverWait(driver, 10).until(\n",
    "        EC.presence_of_element_located((By.TAG_NAME, \"body\"))\n",
    "    )\n",
    "\n",
    "    # Get the page source\n",
    "page_source = driver.page_source\n",
    "\n",
    "    # Parse the HTML with BeautifulSoup\n",
    "soup = BeautifulSoup(page_source, \"html.parser\")"
   ]
  },
  {
   "cell_type": "code",
   "execution_count": 10,
   "metadata": {},
   "outputs": [
    {
     "data": {
      "text/plain": [
       "['https://www1.upme.gov.co/Normatividad/1198_2024.pdf',\n",
       " 'https://www1.upme.gov.co/Normatividad/977_2024.pdf',\n",
       " 'https://www1.upme.gov.co/Normatividad/979_2024.pdf',\n",
       " 'https://www1.upme.gov.co/Normatividad/727_2024.pdf',\n",
       " 'https://www1.upme.gov.co/Normatividad/712_2024.pdf',\n",
       " 'https://www1.upme.gov.co/Normatividad/705_2024.pdf',\n",
       " 'https://www1.upme.gov.co/Normatividad/501_2024.pdf',\n",
       " 'https://www1.upme.gov.co/Normatividad/457_2024.pdf']"
      ]
     },
     "execution_count": 10,
     "metadata": {},
     "output_type": "execute_result"
    }
   ],
   "source": [
    "pdf_links = [\n",
    "    element.get_attribute(\"href\")\n",
    "    for element in driver.find_elements(By.CSS_SELECTOR, \"a.ms-srch-item-link\")\n",
    "]\n",
    "pdf_links"
   ]
  },
  {
   "cell_type": "code",
   "execution_count": 11,
   "metadata": {},
   "outputs": [],
   "source": [
    "driver.quit()"
   ]
  },
  {
   "cell_type": "code",
   "execution_count": 19,
   "metadata": {},
   "outputs": [
    {
     "data": {
      "text/plain": [
       "'Normatividad/1198_2024.pdf'"
      ]
     },
     "execution_count": 19,
     "metadata": {},
     "output_type": "execute_result"
    }
   ],
   "source": [
    "pdf_links[0][-26:]"
   ]
  },
  {
   "cell_type": "code",
   "execution_count": 12,
   "metadata": {},
   "outputs": [],
   "source": [
    "# Directory to save documents\n",
    "DOWNLOAD_DIR = \"../data\"\n",
    "os.makedirs(DOWNLOAD_DIR, exist_ok=True)"
   ]
  },
  {
   "cell_type": "code",
   "execution_count": 33,
   "metadata": {},
   "outputs": [],
   "source": [
    "def download_document(url, filename):\n",
    "    \"\"\"Download a document and save it locally.\"\"\"\n",
    "    try:\n",
    "        filename = filename.replace(\"/\", \"-\")\n",
    "        response = requests.get(url, timeout=15)\n",
    "        response.raise_for_status()\n",
    "\n",
    "        filepath = os.path.join(\"../data/\", filename)\n",
    "        with open(filepath, \"wb\") as file:\n",
    "            file.write(response.content)\n",
    "\n",
    "    except Exception as e:\n",
    "        print(f\"Error downloading {url}: {e}\")"
   ]
  },
  {
   "cell_type": "code",
   "execution_count": null,
   "metadata": {},
   "outputs": [],
   "source": [
    "for doc in pdf_links:\n",
    "    filename = doc[-26:]\n",
    "    download_document(doc, filename)"
   ]
  },
  {
   "cell_type": "code",
   "execution_count": 35,
   "metadata": {},
   "outputs": [],
   "source": [
    "month_index_translation = {\n",
    "    \"DIC\": \"DEC\",\n",
    "    \"NOV\": \"NOV\",\n",
    "    \"OCT\": \"OCT\",\n",
    "    \"SEP\": \"SEP\",\n",
    "    \"AGO\": \"AUG\",\n",
    "    \"JUL\": \"JUL\",\n",
    "    \"JUN\": \"JUN\",\n",
    "    \"MAY\": \"MAY\",\n",
    "    \"ABR\": \"APR\",\n",
    "    \"MAR\": \"MAR\",\n",
    "    \"FEB\": \"FEB\",\n",
    "    \"ENE\": \"JAN\",\n",
    "}"
   ]
  },
  {
   "cell_type": "code",
   "execution_count": 36,
   "metadata": {},
   "outputs": [],
   "source": [
    "import unicodedata\n",
    "\n",
    "def remove_accents(text):\n",
    "    return \"\".join(\n",
    "        c for c in unicodedata.normalize(\"NFKD\", text) if not unicodedata.combining(c)\n",
    "    )"
   ]
  },
  {
   "cell_type": "code",
   "execution_count": 52,
   "metadata": {},
   "outputs": [],
   "source": [
    "import PyPDF2\n",
    "import re\n",
    "from datetime import datetime\n",
    "\n",
    "def extract_text_from_pdf(pdf_path):\n",
    "    \"\"\"Extrae todo el texto del PDF.\"\"\"\n",
    "    with open(pdf_path, \"rb\") as file:\n",
    "        reader = PyPDF2.PdfReader(file)\n",
    "        full_text = [p.extract_text() for p in reader.pages]\n",
    "        full_text = [p for p in full_text if p]  # Remove empty paragraphs\n",
    "        full_text = [remove_accents(p) for p in full_text]\n",
    "        # for page in reader.pages:\n",
    "        #     text += page.extract_text()\n",
    "    return \"\\n\".join(full_text)\n",
    "\n",
    "def extract_metadata(text):\n",
    "    \"\"\"Extrae número de resolución, fecha y concepto del texto.\"\"\"\n",
    "    resolution_number = None\n",
    "    date = None\n",
    "    concept = None\n",
    "\n",
    "    # Buscar número de resolución (ejemplo: RESOLUCIÓN No. 000457 de 2024)\n",
    "    res_match = re.search(r\"RESOLUCIÓN\\s+No\\.\\s+\\d+\\s+de\\s+\\d{4}\", text, re.IGNORECASE)\n",
    "    if res_match:\n",
    "        resolution_number = res_match.group()\n",
    "        resolution_number = remove_accents(resolution_number)\n",
    "\n",
    "    # Buscar fecha (ejemplo: 19-06-2024)\n",
    "    date_match = re.search(r\"\\d{2}-\\d{2}-\\d{4}\", text)\n",
    "    if date_match:\n",
    "        date = date_match.group()\n",
    "        date = datetime.strptime(date, \"%d-%m-%Y\").strftime(\"%Y-%m-%d\")\n",
    "\n",
    "    # Buscar concepto (usando comillas y heurística)\n",
    "    concept_match = re.search(r\"“([^”]+)”\", text)\n",
    "    if concept_match:\n",
    "        concept = concept_match.group(1)\n",
    "        concept = remove_accents(concept)\n",
    "\n",
    "    return {\n",
    "        \"name\": resolution_number,\n",
    "        \"resolution_date\": date,\n",
    "        \"concept\": concept,\n",
    "        \"process_date\": datetime.now().strftime(\"%Y-%m-%d\"),\n",
    "    }"
   ]
  },
  {
   "cell_type": "code",
   "execution_count": 54,
   "metadata": {},
   "outputs": [],
   "source": [
    "documents = [f for f in os.listdir(\"../data\") if f.endswith(\".pdf\")]\n",
    "resolutions = []\n",
    "for document in documents:\n",
    "    pdf_path = os.path.join(\"../data/\", document)\n",
    "    pdf_text = extract_text_from_pdf(pdf_path)\n",
    "    metadata = extract_metadata(pdf_text)\n",
    "    metadata[\"full_text\"] = pdf_text\n",
    "    resolutions.append(metadata)\n"
   ]
  },
  {
   "cell_type": "code",
   "execution_count": 57,
   "metadata": {},
   "outputs": [],
   "source": [
    "# Save as JSON\n",
    "import json\n",
    "\n",
    "folder = \"../data/processed\"\n",
    "file_name = \"resolutions.json\"\n",
    "file_path = os.path.join(folder, file_name)\n",
    "with open(file_path, \"w\", encoding=\"utf-8\") as f:\n",
    "    json.dump(resolutions, f, indent=4)"
   ]
  }
 ],
 "metadata": {
  "kernelspec": {
   "display_name": "energy_sector_agent",
   "language": "python",
   "name": "python3"
  },
  "language_info": {
   "codemirror_mode": {
    "name": "ipython",
    "version": 3
   },
   "file_extension": ".py",
   "mimetype": "text/x-python",
   "name": "python",
   "nbconvert_exporter": "python",
   "pygments_lexer": "ipython3",
   "version": "3.13.1"
  }
 },
 "nbformat": 4,
 "nbformat_minor": 2
}
