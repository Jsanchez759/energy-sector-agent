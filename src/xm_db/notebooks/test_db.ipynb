{
 "cells": [
  {
   "cell_type": "code",
   "execution_count": 16,
   "metadata": {},
   "outputs": [],
   "source": [
    "import sqlite3"
   ]
  },
  {
   "cell_type": "code",
   "execution_count": 17,
   "metadata": {},
   "outputs": [
    {
     "name": "stdout",
     "output_type": "stream",
     "text": [
      "DB Init\n"
     ]
    }
   ],
   "source": [
    "try:\n",
    "    # Connect to DB and create a cursor\n",
    "    sqliteConnection = sqlite3.connect(\"../dbs/test_xm_data.db\")\n",
    "    conn = sqliteConnection\n",
    "    cursor = sqliteConnection.cursor()\n",
    "    print('DB Init')\n",
    "\n",
    "except sqlite3.Error as error:\n",
    "    print('Error occurred - ', error)"
   ]
  },
  {
   "cell_type": "code",
   "execution_count": 6,
   "metadata": {},
   "outputs": [],
   "source": [
    "conn.execute(\n",
    "    \"\"\"\n",
    "CREATE TABLE master_table (\n",
    "    id INT IDENTITY(1,1) PRIMARY KEY,\n",
    "    metricId VARCHAR(255),\n",
    "    MetricName VARCHAR(255),\n",
    "    Entity VARCHAR(255),\n",
    "    Type VARCHAR(255),\n",
    "    Filter VARCHAR(255),\n",
    "    MetricUnits VARCHAR(255),\n",
    "    MetricDescription VARCHAR(255)            \n",
    ")\n",
    "\"\"\"\n",
    ")\n",
    "\n",
    "conn.commit()"
   ]
  },
  {
   "cell_type": "code",
   "execution_count": 7,
   "metadata": {},
   "outputs": [],
   "source": [
    "conn.execute(\n",
    "\"\"\"\n",
    "CREATE TABLE monthly_entity (\n",
    "    id INTEGER,\n",
    "    value REAL,\n",
    "    date VARCHAR(255),\n",
    "    metricName VARCHAR(255))\n",
    "\"\"\"\n",
    ")\n",
    "\n",
    "conn.commit()"
   ]
  },
  {
   "cell_type": "code",
   "execution_count": 8,
   "metadata": {},
   "outputs": [],
   "source": [
    "conn.execute(\n",
    "    \"\"\"\n",
    "CREATE TABLE daily_entity (\n",
    "    id INTEGER,\n",
    "    value REAL,\n",
    "    id_recurso VARCHAR(255),\n",
    "    date VARCHAR(255),\n",
    "    metricName VARCHAR(255))\n",
    "\"\"\"\n",
    ")\n",
    "\n",
    "conn.commit()"
   ]
  },
  {
   "cell_type": "code",
   "execution_count": 19,
   "metadata": {},
   "outputs": [],
   "source": [
    "conn.execute(\n",
    "    \"\"\" \n",
    "    DELETE FROM hourly_entity;\n",
    "    \"\"\"\n",
    ")\n",
    "conn.commit()"
   ]
  },
  {
   "cell_type": "code",
   "execution_count": 9,
   "metadata": {},
   "outputs": [],
   "source": [
    "conn.execute(\n",
    "    \"\"\"\n",
    "CREATE TABLE hourly_entity (\n",
    "    id INTEGER,\n",
    "    id_recurso VARCHAR(1000),\n",
    "    Values_Hour01 REAL,\n",
    "    Values_Hour02 REAL,\n",
    "    Values_Hour03 REAL,\n",
    "    Values_Hour04 REAL,\n",
    "    Values_Hour05 REAL,\n",
    "    Values_Hour06 REAL,\n",
    "    Values_Hour07 REAL,\n",
    "    Values_Hour08 REAL,\n",
    "    Values_Hour09 REAL,\n",
    "    Values_Hour10 REAL,\n",
    "    Values_Hour11 REAL,\n",
    "    Values_Hour12 REAL,\n",
    "    Values_Hour13 REAL,\n",
    "    Values_Hour14 REAL,\n",
    "    Values_Hour15 REAL,\n",
    "    Values_Hour16 REAL,\n",
    "    Values_Hour17 REAL,\n",
    "    Values_Hour18 REAL,\n",
    "    Values_Hour19 REAL,\n",
    "    Values_Hour20 REAL,\n",
    "    Values_Hour21 REAL,\n",
    "    Values_Hour22 REAL,\n",
    "    Values_Hour23 REAL,\n",
    "    Values_Hour24 REAL,                                \n",
    "    date VARCHAR(255),\n",
    "    metricName VARCHAR(255))\n",
    "\"\"\"\n",
    ")\n",
    "\n",
    "conn.commit()"
   ]
  },
  {
   "cell_type": "code",
   "execution_count": 13,
   "metadata": {},
   "outputs": [],
   "source": [
    "from pydataxm.pydataxm import ReadDB\n",
    "\n",
    "objetoAPI = ReadDB()"
   ]
  },
  {
   "cell_type": "code",
   "execution_count": 14,
   "metadata": {},
   "outputs": [],
   "source": [
    "df_metrics = objetoAPI.get_collections()[\n",
    "    [\n",
    "        \"MetricId\",\n",
    "        \"MetricName\",\n",
    "        \"Entity\",\n",
    "        \"Type\",\n",
    "        \"Filter\",\n",
    "        \"MetricUnits\",\n",
    "        \"MetricDescription\",\n",
    "    ]\n",
    "]\n",
    "for i in df_metrics.iterrows():\n",
    "    conn.execute(\n",
    "        \"\"\"\n",
    "    INSERT INTO master_table (MetricId, MetricName, Entity, Type, Filter, MetricUnits, MetricDescription)\n",
    "    VALUES (?, ?, ?, ?, ?, ?, ?)\n",
    "    \"\"\",\n",
    "        (\n",
    "            i[1].to_dict()[\"MetricId\"],\n",
    "            i[1].to_dict()[\"MetricName\"],\n",
    "            i[1].to_dict()[\"Entity\"],\n",
    "            i[1].to_dict()[\"Type\"],\n",
    "            i[1].to_dict()[\"Filter\"],\n",
    "            i[1].to_dict()[\"MetricUnits\"],\n",
    "            i[1].to_dict()[\"MetricDescription\"],\n",
    "        ),\n",
    "    )\n",
    "    conn.commit()"
   ]
  },
  {
   "cell_type": "code",
   "execution_count": 23,
   "metadata": {},
   "outputs": [
    {
     "data": {
      "text/html": [
       "<div>\n",
       "<style scoped>\n",
       "    .dataframe tbody tr th:only-of-type {\n",
       "        vertical-align: middle;\n",
       "    }\n",
       "\n",
       "    .dataframe tbody tr th {\n",
       "        vertical-align: top;\n",
       "    }\n",
       "\n",
       "    .dataframe thead th {\n",
       "        text-align: right;\n",
       "    }\n",
       "</style>\n",
       "<table border=\"1\" class=\"dataframe\">\n",
       "  <thead>\n",
       "    <tr style=\"text-align: right;\">\n",
       "      <th></th>\n",
       "      <th>id</th>\n",
       "      <th>value</th>\n",
       "      <th>date</th>\n",
       "      <th>metricName</th>\n",
       "    </tr>\n",
       "  </thead>\n",
       "  <tbody>\n",
       "    <tr>\n",
       "      <th>0</th>\n",
       "      <td>None</td>\n",
       "      <td>88.75800</td>\n",
       "      <td>2025-01-01</td>\n",
       "      <td>CEE por Sistema</td>\n",
       "    </tr>\n",
       "    <tr>\n",
       "      <th>1</th>\n",
       "      <td>None</td>\n",
       "      <td>3.30427</td>\n",
       "      <td>2025-01-01</td>\n",
       "      <td>FAZNI Precio por Sistema</td>\n",
       "    </tr>\n",
       "  </tbody>\n",
       "</table>\n",
       "</div>"
      ],
      "text/plain": [
       "     id     value        date                metricName\n",
       "0  None  88.75800  2025-01-01           CEE por Sistema\n",
       "1  None   3.30427  2025-01-01  FAZNI Precio por Sistema"
      ]
     },
     "execution_count": 23,
     "metadata": {},
     "output_type": "execute_result"
    }
   ],
   "source": [
    "import pandas as pd\n",
    "\n",
    "df = pd.read_sql_query(\"SELECT * FROM monthly_entity\", conn)\n",
    "df"
   ]
  }
 ],
 "metadata": {
  "kernelspec": {
   "display_name": "energy_sector_agent",
   "language": "python",
   "name": "python3"
  },
  "language_info": {
   "codemirror_mode": {
    "name": "ipython",
    "version": 3
   },
   "file_extension": ".py",
   "mimetype": "text/x-python",
   "name": "python",
   "nbconvert_exporter": "python",
   "pygments_lexer": "ipython3",
   "version": "3.13.1"
  }
 },
 "nbformat": 4,
 "nbformat_minor": 2
}
