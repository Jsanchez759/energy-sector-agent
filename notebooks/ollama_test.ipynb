{
 "cells": [
  {
   "cell_type": "code",
   "execution_count": 1,
   "metadata": {},
   "outputs": [
    {
     "data": {
      "text/plain": [
       "200"
      ]
     },
     "execution_count": 1,
     "metadata": {},
     "output_type": "execute_result"
    }
   ],
   "source": [
    "import requests\n",
    "import json\n",
    "\n",
    "# Set up the base URL for the local Ollama API\n",
    "url = \"http://localhost:11434/api/chat\"\n",
    "\n",
    "# Define the payload (your input prompt)\n",
    "payload = {\n",
    "    \"model\": \"llama3.2:3b\",  # Replace with the model name you're using\n",
    "    \"messages\": [{\"role\": \"user\", \"content\": \"Who is messi?\"}],\n",
    "}\n",
    "\n",
    "# Send the HTTP POST request with streaming enabled\n",
    "response = requests.post(url, json=payload)\n",
    "response.status_code"
   ]
  },
  {
   "cell_type": "code",
   "execution_count": 3,
   "metadata": {},
   "outputs": [
    {
     "name": "stdout",
     "output_type": "stream",
     "text": [
      "Streaming response from Ollama:\n",
      "Lionel Messi is an Argentine professional footballer widely regarded as one of the greatest players of all time. He is a forward for Paris Saint-Germain and the Argentina national team.\n",
      "\n",
      "Born on June 24, 1987, in Rosario, Argentina, Messi began playing football at a young age and joined his local club Grandoli before moving to Newell's Old Boys. However, it was Barcelona's La Masia youth academy that would launch his professional career, where he rose through the ranks and made his debut in 2004.\n",
      "\n",
      "Messi's exceptional skills, speed, dribbling ability, and goal-scoring prowess quickly made him a household name. Throughout his career, he has won numerous accolades, including:\n",
      "\n",
      "* 7 Ballon d'Or awards (a record)\n",
      "* 10 La Liga titles\n",
      "* 4 UEFA Champions League titles\n",
      "* 3 FIFA Club World Cup titles\n",
      "* 1 UEFA European Championship title\n",
      "\n",
      "Messi's impressive statistics include over 770 goals in 912 games, making him one of the all-time leading scorers in both club and international football.\n",
      "\n",
      "Off the pitch, Messi is known for his humility, kindness, and commitment to philanthropy. He has been involved in various charitable initiatives, including supporting education and healthcare programs, particularly in his native Argentina.\n",
      "\n",
      "In 2021, Messi made a highly publicized move from Barcelona to Paris Saint-Germain, where he continues to be one of the most dominant players in the world. His incredible talent, work ethic, and dedication have earned him a massive following worldwide, cementing his status as a global football icon.\n"
     ]
    }
   ],
   "source": [
    "if response.status_code == 200:\n",
    "    print(\"Streaming response from Ollama:\")\n",
    "    for line in response.iter_lines(decode_unicode=True):\n",
    "        if line:  # Ignore empty lines\n",
    "            try:\n",
    "                # Parse each line as a JSON object\n",
    "                json_data = json.loads(line)\n",
    "                # Extract and print the assistant's message content\n",
    "                if \"message\" in json_data and \"content\" in json_data[\"message\"]:\n",
    "                    print(json_data[\"message\"][\"content\"], end=\"\")\n",
    "            except json.JSONDecodeError:\n",
    "                print(f\"\\nFailed to parse line: {line}\")\n",
    "    print()  # Ensure the final output ends with a newline\n",
    "else:\n",
    "    print(f\"Error: {response.status_code}\")\n",
    "    print(response.text)"
   ]
  }
 ],
 "metadata": {
  "kernelspec": {
   "display_name": ".venv",
   "language": "python",
   "name": "python3"
  },
  "language_info": {
   "codemirror_mode": {
    "name": "ipython",
    "version": 3
   },
   "file_extension": ".py",
   "mimetype": "text/x-python",
   "name": "python",
   "nbconvert_exporter": "python",
   "pygments_lexer": "ipython3",
   "version": "3.12.9"
  }
 },
 "nbformat": 4,
 "nbformat_minor": 2
}
